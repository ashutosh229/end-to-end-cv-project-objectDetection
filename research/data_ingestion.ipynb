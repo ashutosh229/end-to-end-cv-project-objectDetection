{
 "cells": [
  {
   "cell_type": "code",
   "execution_count": 3,
   "metadata": {},
   "outputs": [],
   "source": [
    "import os"
   ]
  },
  {
   "cell_type": "code",
   "execution_count": 4,
   "metadata": {},
   "outputs": [],
   "source": [
    "os.chdir(\"../\")"
   ]
  },
  {
   "cell_type": "code",
   "execution_count": 5,
   "metadata": {},
   "outputs": [
    {
     "data": {
      "text/plain": [
       "'c:\\\\Users\\\\akuma\\\\Desktop\\\\CV\\\\end-to-end-cv-project-objectDetection'"
      ]
     },
     "execution_count": 5,
     "metadata": {},
     "output_type": "execute_result"
    }
   ],
   "source": [
    "%pwd"
   ]
  },
  {
   "cell_type": "code",
   "execution_count": 6,
   "metadata": {},
   "outputs": [],
   "source": [
    "from dataclasses import dataclass\n",
    "from pathlib import Path\n",
    "\n",
    "\n",
    "@dataclass(frozen=True)\n",
    "class DataIngestionConfig:\n",
    "  root_dir: Path\n",
    "  source_url: str\n",
    "  local_data_file: Path\n",
    "  unzip_dir: Path"
   ]
  },
  {
   "cell_type": "code",
   "execution_count": 11,
   "metadata": {},
   "outputs": [],
   "source": [
    "from src.cnnClassifier.constants import *\n",
    "from src.cnnClassifier.utils.common import read_yaml,create_directories\n"
   ]
  },
  {
   "cell_type": "code",
   "execution_count": 17,
   "metadata": {},
   "outputs": [],
   "source": [
    "class ConfigurationManager:\n",
    "  def __init__(\n",
    "    self,\n",
    "    config_filepath = CONFIG_FILE_PATH,\n",
    "    params_filepath = PARAMS_FILE_PATH,\n",
    "    \n",
    "  ):\n",
    "    self.config = read_yaml(config_filepath)\n",
    "    self.params = read_yaml(params_filepath)\n",
    "    \n",
    "    create_directories([self.config.artifacts_root])\n",
    "  \n",
    "  def get_data_ingestion_config(self)->DataIngestionConfig:\n",
    "    config = self.config.data_ingestion\n",
    "    create_directories([config.root_dir])\n",
    "    data_ingestion_config = DataIngestionConfig(\n",
    "      root_dir=config.root_dir,\n",
    "      source_url=config.source_url,\n",
    "      local_data_file=config.local_data_file,\n",
    "      unzip_dir=config.unzip_dir\n",
    "    )\n",
    "    return data_ingestion_config"
   ]
  },
  {
   "cell_type": "code",
   "execution_count": 14,
   "metadata": {},
   "outputs": [],
   "source": [
    "import os \n",
    "import zipfile\n",
    "import gdown\n",
    "from src.cnnClassifier import logger\n",
    "from src.cnnClassifier.utils.common import get_size"
   ]
  },
  {
   "cell_type": "code",
   "execution_count": 16,
   "metadata": {},
   "outputs": [],
   "source": [
    "class DataIngestion:\n",
    "  def __init__(self,config:DataIngestionConfig):\n",
    "    self.config = config\n",
    "  \n",
    "  def download_file(self)->str:\n",
    "    try:\n",
    "      dataset_url = self.config.source_url\n",
    "      zip_download_dir = self.config.local_data_file\n",
    "      os.makedirs(f\"{self.config.root_dir}\",exist_ok=True)\n",
    "      logger.info(f\"Downloading data from {dataset_url} into file: {zip_download_dir}\")\n",
    "      \n",
    "      file_id = dataset_url.split(\"/\")[-2]\n",
    "      prefix = 'https://drive.google.com/uc?/export=download&id='\n",
    "      drive_link = prefix + file_id\n",
    "      gdown.download(drive_link,zip_download_dir)\n",
    "      \n",
    "      logger.info(f\"Downloaded data from {dataset_url} into file: {zip_download_dir}\")\n",
    "    except Exception as error:\n",
    "      raise error\n",
    "    \n",
    "  def extract_zip_file(self):\n",
    "    unzip_path = self.config.unzip_dir\n",
    "    os.makedirs(unzip_path,exist_ok=True)\n",
    "    with zipfile.ZipFile(self.config.local_data_file,\"r\") as reader:\n",
    "      reader.extractall(unzip_path)\n",
    "      "
   ]
  },
  {
   "cell_type": "code",
   "execution_count": 18,
   "metadata": {},
   "outputs": [
    {
     "name": "stdout",
     "output_type": "stream",
     "text": [
      "[2024-09-10 01:52:09,261: INFO: common: yaml file: config\\config.yaml loaded successfully]\n",
      "[2024-09-10 01:52:09,280: INFO: common: yaml file: params.yaml loaded successfully]\n",
      "[2024-09-10 01:52:09,284: INFO: common: Created directory at: artifacts]\n",
      "[2024-09-10 01:52:09,288: INFO: common: Created directory at: artifacts/data_ingestion]\n",
      "[2024-09-10 01:52:09,292: INFO: 4070247016: Downloading data from https://drive.google.com/file/d/1bho-vzvxjymNMgREyQrHiEe8Z39cFsl2/view?usp=sharing into file: artifacts/data_ingestion/data.zip]\n"
     ]
    },
    {
     "name": "stderr",
     "output_type": "stream",
     "text": [
      "Downloading...\n",
      "From (original): https://drive.google.com/uc?/export=download&id=1bho-vzvxjymNMgREyQrHiEe8Z39cFsl2\n",
      "From (redirected): https://drive.google.com/uc?%2Fexport=download&id=1bho-vzvxjymNMgREyQrHiEe8Z39cFsl2&confirm=t&uuid=aa143cb5-9350-41f0-a823-f47289ab1eca\n",
      "To: c:\\Users\\akuma\\Desktop\\CV\\end-to-end-cv-project-objectDetection\\artifacts\\data_ingestion\\data.zip\n",
      "100%|██████████| 49.0M/49.0M [00:04<00:00, 11.5MB/s]"
     ]
    },
    {
     "name": "stdout",
     "output_type": "stream",
     "text": [
      "[2024-09-10 01:52:19,163: INFO: 4070247016: Downloaded data from https://drive.google.com/file/d/1bho-vzvxjymNMgREyQrHiEe8Z39cFsl2/view?usp=sharing into file: artifacts/data_ingestion/data.zip]\n"
     ]
    },
    {
     "name": "stderr",
     "output_type": "stream",
     "text": [
      "\n"
     ]
    }
   ],
   "source": [
    "try:\n",
    "  config = ConfigurationManager() ###configuration manager\n",
    "  data_ingestion_config = config.get_data_ingestion_config() #extracting the config using this config\n",
    "  data_ingestion = DataIngestion(config=data_ingestion_config) #using the config into the function\n",
    "  \n",
    "  data_ingestion.download_file()\n",
    "  data_ingestion.extract_zip_file()\n",
    "except Exception as error:\n",
    "  raise error"
   ]
  }
 ],
 "metadata": {
  "kernelspec": {
   "display_name": "Python 3",
   "language": "python",
   "name": "python3"
  },
  "language_info": {
   "codemirror_mode": {
    "name": "ipython",
    "version": 3
   },
   "file_extension": ".py",
   "mimetype": "text/x-python",
   "name": "python",
   "nbconvert_exporter": "python",
   "pygments_lexer": "ipython3",
   "version": "3.12.4"
  }
 },
 "nbformat": 4,
 "nbformat_minor": 2
}
